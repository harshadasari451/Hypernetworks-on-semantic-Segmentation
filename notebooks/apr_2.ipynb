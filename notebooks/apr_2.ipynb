{
 "cells": [
  {
   "cell_type": "code",
   "execution_count": null,
   "metadata": {},
   "outputs": [],
   "source": [
    "from src.models.HyperNet import HyperNetwork\n",
    "from src.models.Resnet import ResNetBlock\n",
    "from src.models.primaryNet import PrimaryNetwork\n",
    " "
   ]
  },
  {
   "cell_type": "code",
   "execution_count": 8,
   "metadata": {},
   "outputs": [
    {
     "name": "stdout",
     "output_type": "stream",
     "text": [
      "/home/CAMPUS/hdasari/Hypernetworks_stevens\n"
     ]
    }
   ],
   "source": [
    "cd .."
   ]
  },
  {
   "cell_type": "code",
   "execution_count": 22,
   "metadata": {},
   "outputs": [
    {
     "name": "stdout",
     "output_type": "stream",
     "text": [
      "Dataset length: 1270\n",
      "Number of batches: 80\n",
      "all_patches shape: 16\n",
      "all_patches shape: torch.Size([16, 3, 40, 1, 9, 9])\n",
      "masked_image shape: torch.Size([16, 3, 89])\n",
      "key_pixels shape: torch.Size([16, 3, 2])\n",
      "all_labels shape: torch.Size([16, 3, 40])\n",
      "Mismatches: tensor([19,  0,  0,  0,  0,  0,  0,  0,  0,  0,  0, 15,  0,  0,  0,  0])\n"
     ]
    }
   ],
   "source": [
    "from src.data_loaders.battery_dataloader import Battery_data\n",
    "\n",
    "\n",
    "import torch\n",
    "from torch.utils.data import DataLoader\n",
    "\n",
    "# Assuming CityscapesSegmentation and other necessary imports are already defined\n",
    "\n",
    "# Load dataset\n",
    "image_dir = \"/home/CAMPUS/sgangadh1/projects/rl-batt-seg-snapshot-jan-2024/data/battery_2/train_images\"\n",
    "label_dir = \"/home/CAMPUS/sgangadh1/projects/rl-batt-seg-snapshot-jan-2024/data/battery_2/train_label\"\n",
    "# train_dataset = CityscapesSegmentation(image_dir, label_dir)\n",
    "# train_loader = DataLoader(train_dataset, batch_size=16, shuffle=True)\n",
    "\n",
    "# Iterate through the DataLoader and inspect the output\n",
    "def display_first_batch_shape(dataset, batch_size=16):\n",
    "    dataloader = DataLoader(dataset, batch_size=batch_size, shuffle=True)\n",
    "    for batch in dataloader:\n",
    "        all_patches, masked_image, key_pixels, all_labels, mismatch = batch\n",
    "        print(f\"all_patches shape: {len(all_patches)}\") \n",
    "        print(f\"all_patches shape: {(all_patches.shape)}\") # Expected: (batch_size, K, 40, C, H, W)\n",
    "        print(f\"masked_image shape: {masked_image.shape}\")  # Expected: (batch_size, k,concatednated_patch[9*9+8])\n",
    "        print(f\"key_pixels shape: {key_pixels.shape}\")  # Expected: (batch_size, K,2)\n",
    "        print(f\"all_labels shape: {all_labels.shape}\")  # Expected: (batch_size, K, 40)\n",
    "        print(f\"Mismatches: {mismatch}\")\n",
    "        break\n",
    "        \n",
    "\n",
    "train_dataset = Battery_data(image_dir, label_dir)\n",
    "print(f\"Dataset length: {len(train_dataset)}\")\n",
    "dataloader = DataLoader(train_dataset, batch_size=16, shuffle=True)\n",
    "print(f\"Number of batches: {len(dataloader)}\")\n",
    "\n",
    "sample = train_dataset[0]\n",
    "# print(f\"Sample: {sample}\")\n",
    "display_first_batch_shape(train_dataset, batch_size=16)"
   ]
  },
  {
   "cell_type": "code",
   "execution_count": null,
   "metadata": {},
   "outputs": [],
   "source": [
    "from src.models.primaryNet import PrimaryNetwork"
   ]
  }
 ],
 "metadata": {
  "kernelspec": {
   "display_name": "hypernetworks",
   "language": "python",
   "name": "python3"
  },
  "language_info": {
   "codemirror_mode": {
    "name": "ipython",
    "version": 3
   },
   "file_extension": ".py",
   "mimetype": "text/x-python",
   "name": "python",
   "nbconvert_exporter": "python",
   "pygments_lexer": "ipython3",
   "version": "3.10.16"
  }
 },
 "nbformat": 4,
 "nbformat_minor": 2
}
