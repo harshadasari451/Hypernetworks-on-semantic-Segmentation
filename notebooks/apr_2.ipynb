{
 "cells": [
  {
   "cell_type": "code",
   "execution_count": null,
   "metadata": {},
   "outputs": [],
   "source": [
    "from src.models.HyperNet import HyperNetwork\n",
    "from src.models.Resnet import ResNetBlock\n",
    "from src.models.primaryNet import PrimaryNetwork\n",
    " "
   ]
  }
 ],
 "metadata": {
  "kernelspec": {
   "display_name": "hypernetworks",
   "language": "python",
   "name": "python3"
  },
  "language_info": {
   "name": "python",
   "version": "3.10.16"
  }
 },
 "nbformat": 4,
 "nbformat_minor": 2
}
